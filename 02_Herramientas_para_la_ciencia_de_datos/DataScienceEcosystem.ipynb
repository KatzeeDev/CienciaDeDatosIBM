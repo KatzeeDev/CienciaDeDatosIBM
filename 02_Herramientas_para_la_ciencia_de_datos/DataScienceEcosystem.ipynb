{
 "cells": [
  {
   "cell_type": "markdown",
   "id": "3b008b12",
   "metadata": {},
   "source": [
    "# Exercise 2: DataScienceEcosystem\n",
    "\n",
    "# Data Science Tools and Ecosystem"
   ]
  },
  {
   "cell_type": "markdown",
   "metadata": {},
   "source": [
    "# Exercise 3: Introduction\n",
    "\n",
    "In this notebook, Data Science Tools and Ecosystem are summarized with a personal touch on what I’ve found most inspiring about this journey."
   ]
  },
  {
   "cell_type": "markdown",
   "id": "738f955c",
   "metadata": {},
   "source": [
    "# Exercise 4: Popular languages for Data Science\n",
    "\n",
    "Some of the popular languages that Data Scientists use are:\n",
    "1. Python\n",
    "2. R\n",
    "3. SQL\n",
    "4. Julia (a rising star!)"
   ]
  },
  {
   "cell_type": "markdown",
   "id": "ce146f1b",
   "metadata": {},
   "source": [
    "# Exercise 5: Commonly used libraries\n",
    "\n",
    "Some of the commonly used libraries used by Data Scientists include:\n",
    "1. Pandas\n",
    "2. NumPy\n",
    "3. Scikit-learn\n",
    "4. TensorFlow (deep learning love!)"
   ]
  },
  {
   "cell_type": "markdown",
   "id": "5a4c9d22",
   "metadata": {},
   "source": [
    "# Exercise 6: Table of Data Science Tools\n",
    "\n",
    "| Data Science Tools |\n",
    "|--------------------|\n",
    "| Jupyter Notebook   |\n",
    "| RStudio            |\n",
    "| Apache Zeppelin    |"
   ]
  },
  {
   "cell_type": "markdown",
   "id": "5fc4fe0e",
   "metadata": {},
   "source": [
    "# Exercise 7: Examples of Arithmetic Expressions\n",
    "\n",
    "### Below are a few examples of evaluating arithmetic expressions in Python."
   ]
  },
  {
   "cell_type": "code",
   "execution_count": 1,
   "id": "72da2601",
   "metadata": {},
   "outputs": [
    {
     "data": {
      "text/plain": [
       "17"
      ]
     },
     "execution_count": 1,
     "metadata": {},
     "output_type": "execute_result"
    }
   ],
   "source": [
    "# Exercise 8: Multiply and add integers\n",
    "# This a simple arithmetic expression to multiply then add integers\n",
    "(3*4)+5"
   ]
  },
  {
   "cell_type": "code",
   "execution_count": 2,
   "id": "9b456eb7",
   "metadata": {},
   "outputs": [
    {
     "data": {
      "text/plain": [
       "3.3333333333333335"
      ]
     },
     "execution_count": 2,
     "metadata": {},
     "output_type": "execute_result"
    }
   ],
   "source": [
    "# Exercise 9: Convert minutes to hours\n",
    "# This will convert 200 minutes to hours by dividing by 60\n",
    "200 / 60"
   ]
  },
  {
   "cell_type": "markdown",
   "id": "23fe619e",
   "metadata": {},
   "source": [
    "# Exercise 10: Objectives\n",
    "\n",
    "**Objectives:**\n",
    "- List popular languages for Data Science\n",
    "- List commonly used libraries in Data Science\n",
    "- Create tables and lists in Markdown\n",
    "- Write and execute simple arithmetic expressions\n",
    "- Share your work with the community (and inspire others!)"
   ]
  },
  {
   "cell_type": "markdown",
   "id": "99d4ccd0",
   "metadata": {},
   "source": [
    "# Exercise 11: Author\n",
    "\n",
    "## Author\n",
    "Matías Osorio Castro"
   ]
  }
 ],
 "metadata": {
  "kernelspec": {
   "display_name": "Python 3",
   "language": "python",
   "name": "python3"
  },
  "language_info": {
   "codemirror_mode": {
    "name": "ipython",
    "version": 3
   },
   "file_extension": ".py",
   "mimetype": "text/x-python",
   "name": "python",
   "nbconvert_exporter": "python",
   "pygments_lexer": "ipython3",
   "version": "3.13.5"
  }
 },
 "nbformat": 4,
 "nbformat_minor": 5
}
